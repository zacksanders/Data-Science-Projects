{
 "cells": [
  {
   "cell_type": "markdown",
   "metadata": {},
   "source": [
    "## Random Forest Wage Predictor\n",
    "\n",
    "Here we take data of 4165 people in the US from 1976 to 1982 containing their wages, along with attributes such as marraige status, race, and sex. We train a random forest model to predict the wages of people in the testing set."
   ]
  },
  {
   "cell_type": "code",
   "execution_count": 1,
   "metadata": {},
   "outputs": [],
   "source": [
    "import pandas as pd\n",
    "import numpy as np\n",
    "from sklearn.model_selection import train_test_split\n",
    "from sklearn import tree\n",
    "from sklearn.ensemble import RandomForestClassifier\n",
    "\n",
    "#data is from https://vincentarelbundock.github.io/Rdatasets/doc/Ecdat/Wages.html"
   ]
  },
  {
   "cell_type": "markdown",
   "metadata": {},
   "source": [
    "First we clean the data. Since the random forest uses logic trees, we only want data that can be represented in binary. "
   ]
  },
  {
   "cell_type": "code",
   "execution_count": 2,
   "metadata": {},
   "outputs": [],
   "source": [
    "df = pd.read_csv(\"Wages.csv\")\n",
    "median_wage = np.median(df['lwage'])\n",
    "\n",
    "df['wage_high'] = df['lwage'].apply(lambda row: 1 if row > median_wage else 0)\n",
    "df['wage_high'].value_counts()\n",
    "\n",
    "df = df[['bluecol', 'ind', 'south', 'smsa', 'married', 'sex', 'union', 'black', 'wage_high']]\n",
    "for i in df[['bluecol', 'ind', 'south', 'smsa', 'married', 'sex', 'union', 'black']]:\n",
    "    df[i] = df[i].apply(lambda row: 1 if row == 'yes' else 1 if row == 'male' else 0)\n",
    "\n",
    "y = df['wage_high'].to_numpy()\n",
    "\n",
    "X = df\n",
    "X.drop(['wage_high'], axis=1, inplace = True)"
   ]
  },
  {
   "cell_type": "markdown",
   "metadata": {},
   "source": [
    "We split the data in to testing and training sets, train the model, and test it."
   ]
  },
  {
   "cell_type": "code",
   "execution_count": 3,
   "metadata": {},
   "outputs": [],
   "source": [
    "X_train, X_test, y_train, y_test = train_test_split(X, y, test_size = 0.2, random_state=2)"
   ]
  },
  {
   "cell_type": "code",
   "execution_count": 4,
   "metadata": {},
   "outputs": [
    {
     "data": {
      "text/plain": [
       "0.7310924369747899"
      ]
     },
     "execution_count": 4,
     "metadata": {},
     "output_type": "execute_result"
    }
   ],
   "source": [
    "forest = RandomForestClassifier(random_state=2)\n",
    "forest.fit(X_train, y_train)\n",
    "forest.score(X_test, y_test)"
   ]
  },
  {
   "cell_type": "markdown",
   "metadata": {},
   "source": [
    "A score of 0.73 is not terrible for this sample data!"
   ]
  }
 ],
 "metadata": {
  "kernelspec": {
   "display_name": "Python 3",
   "language": "python",
   "name": "python3"
  },
  "language_info": {
   "codemirror_mode": {
    "name": "ipython",
    "version": 3
   },
   "file_extension": ".py",
   "mimetype": "text/x-python",
   "name": "python",
   "nbconvert_exporter": "python",
   "pygments_lexer": "ipython3",
   "version": "3.5.2"
  }
 },
 "nbformat": 4,
 "nbformat_minor": 4
}
