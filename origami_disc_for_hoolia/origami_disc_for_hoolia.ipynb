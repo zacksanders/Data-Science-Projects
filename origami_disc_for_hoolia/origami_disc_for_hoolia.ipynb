{
 "cells": [
  {
   "cell_type": "markdown",
   "metadata": {},
   "source": [
    "## Origami Disc for Hoolia\n",
    "\n",
    "My girlfriend at the time was designing DNA nanostructures for sequencing, and wanted a script to find the lengths of a given number of evenly spaced segments of a circle of a given radius. "
   ]
  },
  {
   "cell_type": "code",
   "execution_count": 1,
   "metadata": {},
   "outputs": [
    {
     "name": "stdout",
     "output_type": "stream",
     "text": [
      "[30.0, 29.923371522362018, 29.69229955832361, 29.303130709665734, 28.749445424997297, 28.021493208475757, 27.105237087157537, 25.98076211353316, 24.619554199448693, 22.979582774493448, 20.995626366712955, 18.55768722395226, 15.45236260913138, 11.134612334371354, 0]\n",
      " \n",
      "[0, 2.142857142857143, 4.285714285714286, 6.428571428571429, 8.571428571428571, 10.714285714285714, 12.857142857142858, 15.0, 17.142857142857142, 19.285714285714285, 21.428571428571427, 23.57142857142857, 25.714285714285715, 27.857142857142858, 30.0]\n",
      "15\n"
     ]
    },
    {
     "data": {
      "text/plain": [
       "<Figure size 400x400 with 1 Axes>"
      ]
     },
     "metadata": {},
     "output_type": "display_data"
    }
   ],
   "source": [
    "import matplotlib.pyplot as plt\n",
    "\n",
    "heights = []\n",
    "y = []\n",
    "\n",
    "number_of_segments = 14\n",
    "radius = 30\n",
    "segment = radius / number_of_segments\n",
    "y.append(0)\n",
    "for i in range(number_of_segments):\n",
    "    heights.append((radius **2 - ((segment * i) **2)) **0.5)\n",
    "    y.append(segment*(i+1))\n",
    "heights.append(0)\n",
    "\n",
    "print(heights)\n",
    "print(\" \")\n",
    "print(y)\n",
    "\n",
    "print (len(heights))\n",
    "\n",
    "plt.figure(figsize = [4,4])\n",
    "plt.scatter(y, heights)\n",
    "\n",
    "plt.ylabel('some numbers')\n",
    "plt.show()\n"
   ]
  },
  {
   "cell_type": "code",
   "execution_count": null,
   "metadata": {},
   "outputs": [],
   "source": []
  }
 ],
 "metadata": {
  "kernelspec": {
   "display_name": "Python 3",
   "language": "python",
   "name": "python3"
  },
  "language_info": {
   "codemirror_mode": {
    "name": "ipython",
    "version": 3
   },
   "file_extension": ".py",
   "mimetype": "text/x-python",
   "name": "python",
   "nbconvert_exporter": "python",
   "pygments_lexer": "ipython3",
   "version": "3.5.2"
  }
 },
 "nbformat": 4,
 "nbformat_minor": 4
}
